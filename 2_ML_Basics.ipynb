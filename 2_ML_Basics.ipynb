{
 "cells": [
  {
   "cell_type": "markdown",
   "metadata": {
    "id": "Wbu80HmSJo-y"
   },
   "source": [
    "# Deep Learning 2021\n",
    "## Assignment 1 - Machine Learning Basics"
   ]
  },
  {
   "cell_type": "markdown",
   "metadata": {
    "id": "dfdKHog3Jo-4"
   },
   "source": [
    "### 1. Bias-Variance Tradeoff\n",
    "\n",
    "You have a dataset of $1000$ instances that is divided into a Train-Dev-Test set $(60\\%-20\\%-20\\%)$. The bayes error (or human performance) is $5\\%$. \n",
    "\n",
    "1. If the training error is $1\\%$ and the dev error is $10\\%$, is it a bias or a variance problem?\n",
    "\n",
    "2. If the training error is $10\\%$ and the dev error is $10\\%$, is it a bias or a variance problem?\n",
    "\n",
    "3. If the training error is $10\\%$ and the dev error is $6\\%$, is it a bias or a variance problem?\n",
    "\n",
    "4. If the training set and dev set are differently distributed, what can you expect? \n",
    "\n",
    "5. Is it acceptable to have different dev and test distributions? Why?\n",
    "\n",
    "6. Is it acceptable for the training data to follow a different distribution compared to dev and test (dev and test set follow the same distribution)? Why?"
   ]
  },
  {
   "cell_type": "markdown",
   "metadata": {
    "id": "N1G95389Jo-6"
   },
   "source": [
    "#### Solution\n",
    "1. Overfitting is a variance problem.\n",
    "2. Underfitting is a bias problem.\n",
    "3. Underfitting is a bias problem.\n",
    "4. Then the prediction result on dev set will be wrong and not useful, which can not help to adjust the parameters or hyperparameters.\n",
    "5. No, if they are not follow the same distribution, then we can't apply our model on test set, which will lead to a wrong result.\n",
    "6. Yes, we can adjust the parameters by dev set."
   ]
  },
  {
   "cell_type": "markdown",
   "metadata": {
    "id": "EfymqoMsJo-8"
   },
   "source": [
    "### 2. Dev-Test Splits\n",
    "If your dataset has $10^6$ instances and the bayes error is $5\\%$,\n",
    "\n",
    "1. are dev and test splits of $1\\%$ acceptable, if the bayes error on both dev and test is $5\\%$?\n",
    "2. are dev and test splits of $1\\%$ acceptable, if the bayes error on both dev and test splits is $15\\%$?"
   ]
  },
  {
   "cell_type": "markdown",
   "metadata": {
    "id": "WZVUTkWYJo--"
   },
   "source": [
    "#### Solution\n",
    "1. yes, as long as the bayes error on every set are the same, dev and test split can be $1\\%$.\n",
    "2. no, the bayes error on dev and test set is to big, then the model need bigger dev and test set."
   ]
  },
  {
   "cell_type": "markdown",
   "metadata": {
    "id": "I7tMSD_NJo_A"
   },
   "source": [
    "### 3. Sum of Squares Loss\n",
    "Given a polynomial function of the form\n",
    "\\begin{equation} \n",
    "    f(x, {\\bf{w}}) = \\sum_{j=0}^M w_j x^j.\n",
    "\\end{equation}\n",
    "We are given a training set comprising $N$ observations of $x$ (scalar values), given by $x_1, x_2, ..., x_n$, together with the corresponding observations of target values $y_1, y_2, ..., y_n$.\n",
    "\n",
    "We would like to fit the data to the polynomial function, $f(x, {\\bf{w}})$ by minimizing the following loss function:\n",
    "\\begin{equation} \n",
    "    E({\\bf{w}}) = {1 \\over 2}\\sum_{n=1}^N (f(x_n, {\\bf{w}}) - y_n)^2.\n",
    "\\end{equation}\n",
    "Show that the coefficients ${\\bf{w}} = \\{w_i\\}$ that minimize the above loss function are given by the solution to the following set of linear equations:\n",
    "\\begin{equation} \n",
    "    \\sum_{j=0}^M A_{ij} w_j = Y_i\n",
    "\\end{equation}\n",
    "where\n",
    "\\begin{equation} \n",
    "    A_{ij} = \\sum_{n=1}^N (x_n)^{i+j} \\text{ and } Y_i =\\sum_{n=1}^N (x_n)^i y_n.\n",
    "\\end{equation}"
   ]
  },
  {
   "cell_type": "markdown",
   "metadata": {
    "id": "3k-y7Zt9Jo_C"
   },
   "source": [
    "#### Solution\n"
   ]
  },
  {
   "cell_type": "markdown",
   "metadata": {
    "id": "0kDBQ_fcyOfB"
   },
   "source": [
    "### C0. Getting started with PyTorch: Tensors\n",
    "Before working on the code assignments in this notebook, we recommend reading through the `Tensors.ipynb` tutorial notebook (Download from StudIP). If you are not familiar with PyTorch's Tensors yet, try creating some toy tensors and applying different operations on them. You can find lots of operations [here](https://pytorch.org/docs/stable/tensors.html). For this exercise, the following operations could be particularly useful to know:\n",
    "- creating tensors\n",
    "- joining two tensors (e.g. concatenating, stacking)\n",
    "- transposing a tensor\n",
    "- matrix (and vector) multiplication's\n",
    "- summation, averaging, exponentiation"
   ]
  },
  {
   "cell_type": "markdown",
   "metadata": {
    "id": "GM2CKzjbJo_D"
   },
   "source": [
    "### C1. Linear Regression\n",
    "Implement a linear regression (the `lin_reg` function) with __PyTorch__ to fit a line, $h(x) = w_0 + w_1 x$,  to a set of points generated using the `generate_data` function as defined below. In particular, find $w_0$ and $w_1$ such that the sum of squares error, $\\sum_i ||h(x_i) - y_i||^2$, is minimized.\n",
    "\n",
    "For this task, use tensor operations, `torch.*` and `torch.linalg.inv` to compute the solution via matrix inversion.\n",
    "\n",
    "Afterward, compute and the **Empirical Loss (Training Error)** \n",
    "\\begin{equation}\n",
    "\\mathcal{L} = \\frac{1}{n}\\sum_{i=1}^{n} l(f, x_i, y_i)\n",
    "\\end{equation}\n",
    "where $l(f, x_i, y_i) = (y_i - f(x_i))^2$, i.e. squared loss."
   ]
  },
  {
   "cell_type": "code",
   "execution_count": 18,
   "metadata": {
    "cellView": "both",
    "colab": {
     "base_uri": "https://localhost:8080/",
     "height": 317
    },
    "id": "018EU5W8Jo_F",
    "outputId": "4e45e63e-4f0e-411c-b148-4be1cb8554c8"
   },
   "outputs": [
    {
     "data": {
      "image/png": "[encoded data removed]",
      "text/plain": [
       "<Figure size 432x288 with 1 Axes>"
      ]
     },
     "metadata": {
      "needs_background": "light"
     },
     "output_type": "display_data"
    },
    {
     "name": "stdout",
     "output_type": "stream",
     "text": [
      "computed w:\t[1.7239359617233276, 3.04364275932312]\n",
      "actual w:\t[2.0, 3.0]\n",
      "squared loss = 1.9050\n"
     ]
    }
   ],
   "source": [
    "import torch\n",
    "from matplotlib import pyplot as plt\n",
    "\n",
    "\n",
    "def generate_data(f, spread, x_start, x_end, delta=1):\n",
    "    \"\"\"Generate a number of data points from f with some spread.\"\"\"\n",
    "    x = torch.arange(x_start, x_end, delta)\n",
    "    y = f(x) + (torch.rand(*x.shape) - 0.5) * spread\n",
    "    return x.unsqueeze(-1), y\n",
    "\n",
    "\n",
    "def lin_reg(X, y):\n",
    "    \"\"\"\n",
    "    Return the exact linear regression line, i.e. the weights which minimize the loss.\n",
    "\n",
    "    Input values:\n",
    "        - tensor X = [[x_0], ..., [x_n]], shape=(n, 1): the x-values of the data points\n",
    "        - tensor y = [y_0, ..., y_n], shape=(n,): the y-values of the data points\n",
    "\n",
    "    Return:\n",
    "        - tensor w = [w_0, w_1] such that w_0 is the bias and w_1 is the slope. Recall h(x) = w_0 + w_1 * x.\n",
    "    \"\"\"\n",
    "    # ToDo: Remove dummy and implement this function\n",
    "    \n",
    "    w = torch.rand(1, 2)[0]\n",
    "    h = torch.zeros(size=X.shape)\n",
    "    for i in range(1000):\n",
    "        error_sum = 0\n",
    "        for_gra_w0 = 0\n",
    "        for_gra_w1 = 0\n",
    "        for j in range(X.shape[0]):\n",
    "            h[j] = w[0] + w[1] * X[j]\n",
    "            error_sum = error_sum + (h[j] - y[j])**2\n",
    "            for_gra_w0 = for_gra_w0 + 2*(h[j] - y[j])\n",
    "            for_gra_w1 = for_gra_w1 + 2*(h[j] - y[j])*X[j]\n",
    "\n",
    "        error = error_sum\n",
    "        w[0] = w[0] - 0.0001 * for_gra_w0\n",
    "        w[1] = w[1] - 0.0001 * for_gra_w1\n",
    "    \n",
    "    #w = torch.tensor([5, 2.0])\n",
    "    return w\n",
    "\n",
    "\n",
    "# generate some points\n",
    "w_gt = torch.tensor([2, 3], dtype=torch.float)\n",
    "f = lambda x: w_gt[0] + w_gt[1] * x\n",
    "x, y = generate_data(f, spread=5, x_start=0, x_end=10, delta=0.05)\n",
    "\n",
    "# plot the points\n",
    "plt.plot(x, y, marker='.', linewidth=0)\n",
    "\n",
    "# plot f (orange)\n",
    "plt.plot(x, f(x), 'o', linewidth=5)\n",
    "\n",
    "# perform linear regression\n",
    "w = lin_reg(x, y)\n",
    "\n",
    "# plot the regression line (black dashed)\n",
    "plt.plot(x, w[0] + w[1] * x, 'k--', linewidth=3)\n",
    "\n",
    "plt.show()\n",
    "\n",
    "print(f'computed w:\\t{w.tolist()}')\n",
    "print(f'actual w:\\t{w_gt.tolist()}')\n",
    "\n",
    "# ToDo: Remove dummy and compute the square loss\n",
    "squared_loss = 0\n",
    "for i in range(x.shape[0]):\n",
    "    squared_loss = squared_loss + (w[0] + w[1]*x[i] - y[i])**2\n",
    "print('squared loss = %s' % format(float(squared_loss)/float(x.shape[0]), '.4f'))"
   ]
  }
 ],
 "metadata": {
  "colab": {
   "name": "2_ML_Basics.ipynb",
   "provenance": [],
   "toc_visible": true
  },
  "kernelspec": {
   "display_name": "Python 3",
   "language": "python",
   "name": "python3"
  },
  "language_info": {
   "codemirror_mode": {
    "name": "ipython",
    "version": 3
   },
   "file_extension": ".py",
   "mimetype": "text/x-python",
   "name": "python",
   "nbconvert_exporter": "python",
   "pygments_lexer": "ipython3",
   "version": "3.7.4"
  }
 },
 "nbformat": 4,
 "nbformat_minor": 1
}
