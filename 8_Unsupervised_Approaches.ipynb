{
  "nbformat": 4,
  "nbformat_minor": 0,
  "metadata": {
    "colab": {
      "name": "8_Unsupervised_Approaches_QiushiWang_10033405.ipynb",
      "provenance": [],
      "collapsed_sections": []
    },
    "kernelspec": {
      "name": "python3",
      "display_name": "Python 3"
    },
    "widgets": {
      "application/vnd.jupyter.widget-state+json": {
        "c01961fcaa97415e975336aa3e8e6897": {
          "model_module": "@jupyter-widgets/controls",
          "model_name": "HBoxModel",
          "state": {
            "_view_name": "HBoxView",
            "_dom_classes": [],
            "_model_name": "HBoxModel",
            "_view_module": "@jupyter-widgets/controls",
            "_model_module_version": "1.5.0",
            "_view_count": null,
            "_view_module_version": "1.5.0",
            "box_style": "",
            "layout": "IPY_MODEL_326a1daf70f741f7ac6cc955d970a782",
            "_model_module": "@jupyter-widgets/controls",
            "children": [
              "IPY_MODEL_908605f86f654028879429c014c5f6aa",
              "IPY_MODEL_58881ba77a0c4d19b35a77e190387e31"
            ]
          }
        },
        "326a1daf70f741f7ac6cc955d970a782": {
          "model_module": "@jupyter-widgets/base",
          "model_name": "LayoutModel",
          "state": {
            "_view_name": "LayoutView",
            "grid_template_rows": null,
            "right": null,
            "justify_content": null,
            "_view_module": "@jupyter-widgets/base",
            "overflow": null,
            "_model_module_version": "1.2.0",
            "_view_count": null,
            "flex_flow": null,
            "width": null,
            "min_width": null,
            "border": null,
            "align_items": null,
            "bottom": null,
            "_model_module": "@jupyter-widgets/base",
            "top": null,
            "grid_column": null,
            "overflow_y": null,
            "overflow_x": null,
            "grid_auto_flow": null,
            "grid_area": null,
            "grid_template_columns": null,
            "flex": null,
            "_model_name": "LayoutModel",
            "justify_items": null,
            "grid_row": null,
            "max_height": null,
            "align_content": null,
            "visibility": null,
            "align_self": null,
            "height": null,
            "min_height": null,
            "padding": null,
            "grid_auto_rows": null,
            "grid_gap": null,
            "max_width": null,
            "order": null,
            "_view_module_version": "1.2.0",
            "grid_template_areas": null,
            "object_position": null,
            "object_fit": null,
            "grid_auto_columns": null,
            "margin": null,
            "display": null,
            "left": null
          }
        },
        "908605f86f654028879429c014c5f6aa": {
          "model_module": "@jupyter-widgets/controls",
          "model_name": "FloatProgressModel",
          "state": {
            "_view_name": "ProgressView",
            "style": "IPY_MODEL_57661c4d6c1440eeb7ee28f2840665d8",
            "_dom_classes": [],
            "description": "",
            "_model_name": "FloatProgressModel",
            "bar_style": "success",
            "max": 26421880,
            "_view_module": "@jupyter-widgets/controls",
            "_model_module_version": "1.5.0",
            "value": 26421880,
            "_view_count": null,
            "_view_module_version": "1.5.0",
            "orientation": "horizontal",
            "min": 0,
            "description_tooltip": null,
            "_model_module": "@jupyter-widgets/controls",
            "layout": "IPY_MODEL_06919146e478462f94610cbf88fbf88c"
          }
        },
        "58881ba77a0c4d19b35a77e190387e31": {
          "model_module": "@jupyter-widgets/controls",
          "model_name": "HTMLModel",
          "state": {
            "_view_name": "HTMLView",
            "style": "IPY_MODEL_c90f7e7c0e024df4993c54ad4278abd9",
            "_dom_classes": [],
            "description": "",
            "_model_name": "HTMLModel",
            "placeholder": "​",
            "_view_module": "@jupyter-widgets/controls",
            "_model_module_version": "1.5.0",
            "value": " 26422272/? [00:03&lt;00:00, 7403655.65it/s]",
            "_view_count": null,
            "_view_module_version": "1.5.0",
            "description_tooltip": null,
            "_model_module": "@jupyter-widgets/controls",
            "layout": "IPY_MODEL_015a829c7a1b4ddb8a91fd23006d49ec"
          }
        },
        "57661c4d6c1440eeb7ee28f2840665d8": {
          "model_module": "@jupyter-widgets/controls",
          "model_name": "ProgressStyleModel",
          "state": {
            "_view_name": "StyleView",
            "_model_name": "ProgressStyleModel",
            "description_width": "initial",
            "_view_module": "@jupyter-widgets/base",
            "_model_module_version": "1.5.0",
            "_view_count": null,
            "_view_module_version": "1.2.0",
            "bar_color": null,
            "_model_module": "@jupyter-widgets/controls"
          }
        },
        "06919146e478462f94610cbf88fbf88c": {
          "model_module": "@jupyter-widgets/base",
          "model_name": "LayoutModel",
          "state": {
            "_view_name": "LayoutView",
            "grid_template_rows": null,
            "right": null,
            "justify_content": null,
            "_view_module": "@jupyter-widgets/base",
            "overflow": null,
            "_model_module_version": "1.2.0",
            "_view_count": null,
            "flex_flow": null,
            "width": null,
            "min_width": null,
            "border": null,
            "align_items": null,
            "bottom": null,
            "_model_module": "@jupyter-widgets/base",
            "top": null,
            "grid_column": null,
            "overflow_y": null,
            "overflow_x": null,
            "grid_auto_flow": null,
            "grid_area": null,
            "grid_template_columns": null,
            "flex": null,
            "_model_name": "LayoutModel",
            "justify_items": null,
            "grid_row": null,
            "max_height": null,
            "align_content": null,
            "visibility": null,
            "align_self": null,
            "height": null,
            "min_height": null,
            "padding": null,
            "grid_auto_rows": null,
            "grid_gap": null,
            "max_width": null,
            "order": null,
            "_view_module_version": "1.2.0",
            "grid_template_areas": null,
            "object_position": null,
            "object_fit": null,
            "grid_auto_columns": null,
            "margin": null,
            "display": null,
            "left": null
          }
        },
        "c90f7e7c0e024df4993c54ad4278abd9": {
          "model_module": "@jupyter-widgets/controls",
          "model_name": "DescriptionStyleModel",
          "state": {
            "_view_name": "StyleView",
            "_model_name": "DescriptionStyleModel",
            "description_width": "",
            "_view_module": "@jupyter-widgets/base",
            "_model_module_version": "1.5.0",
            "_view_count": null,
            "_view_module_version": "1.2.0",
            "_model_module": "@jupyter-widgets/controls"
          }
        },
        "015a829c7a1b4ddb8a91fd23006d49ec": {
          "model_module": "@jupyter-widgets/base",
          "model_name": "LayoutModel",
          "state": {
            "_view_name": "LayoutView",
            "grid_template_rows": null,
            "right": null,
            "justify_content": null,
            "_view_module": "@jupyter-widgets/base",
            "overflow": null,
            "_model_module_version": "1.2.0",
            "_view_count": null,
            "flex_flow": null,
            "width": null,
            "min_width": null,
            "border": null,
            "align_items": null,
            "bottom": null,
            "_model_module": "@jupyter-widgets/base",
            "top": null,
            "grid_column": null,
            "overflow_y": null,
            "overflow_x": null,
            "grid_auto_flow": null,
            "grid_area": null,
            "grid_template_columns": null,
            "flex": null,
            "_model_name": "LayoutModel",
            "justify_items": null,
            "grid_row": null,
            "max_height": null,
            "align_content": null,
            "visibility": null,
            "align_self": null,
            "height": null,
            "min_height": null,
            "padding": null,
            "grid_auto_rows": null,
            "grid_gap": null,
            "max_width": null,
            "order": null,
            "_view_module_version": "1.2.0",
            "grid_template_areas": null,
            "object_position": null,
            "object_fit": null,
            "grid_auto_columns": null,
            "margin": null,
            "display": null,
            "left": null
          }
        },
        "24115a6399734b21a0c1046f1e8054e1": {
          "model_module": "@jupyter-widgets/controls",
          "model_name": "HBoxModel",
          "state": {
            "_view_name": "HBoxView",
            "_dom_classes": [],
            "_model_name": "HBoxModel",
            "_view_module": "@jupyter-widgets/controls",
            "_model_module_version": "1.5.0",
            "_view_count": null,
            "_view_module_version": "1.5.0",
            "box_style": "",
            "layout": "IPY_MODEL_491bc2664eb4447daead97c0e61e976e",
            "_model_module": "@jupyter-widgets/controls",
            "children": [
              "IPY_MODEL_d6761df4eee7408b92b3898f6df1e097",
              "IPY_MODEL_08b7edf0378b4ca097f06b66f7dc56a9"
            ]
          }
        },
        "491bc2664eb4447daead97c0e61e976e": {
          "model_module": "@jupyter-widgets/base",
          "model_name": "LayoutModel",
          "state": {
            "_view_name": "LayoutView",
            "grid_template_rows": null,
            "right": null,
            "justify_content": null,
            "_view_module": "@jupyter-widgets/base",
            "overflow": null,
            "_model_module_version": "1.2.0",
            "_view_count": null,
            "flex_flow": null,
            "width": null,
            "min_width": null,
            "border": null,
            "align_items": null,
            "bottom": null,
            "_model_module": "@jupyter-widgets/base",
            "top": null,
            "grid_column": null,
            "overflow_y": null,
            "overflow_x": null,
            "grid_auto_flow": null,
            "grid_area": null,
            "grid_template_columns": null,
            "flex": null,
            "_model_name": "LayoutModel",
            "justify_items": null,
            "grid_row": null,
            "max_height": null,
            "align_content": null,
            "visibility": null,
            "align_self": null,
            "height": null,
            "min_height": null,
            "padding": null,
            "grid_auto_rows": null,
            "grid_gap": null,
            "max_width": null,
            "order": null,
            "_view_module_version": "1.2.0",
            "grid_template_areas": null,
            "object_position": null,
            "object_fit": null,
            "grid_auto_columns": null,
            "margin": null,
            "display": null,
            "left": null
          }
        },
        "d6761df4eee7408b92b3898f6df1e097": {
          "model_module": "@jupyter-widgets/controls",
          "model_name": "FloatProgressModel",
          "state": {
            "_view_name": "ProgressView",
            "style": "IPY_MODEL_ee8a68820e0d44f7be4aa7f7477c6073",
            "_dom_classes": [],
            "description": "",
            "_model_name": "FloatProgressModel",
            "bar_style": "success",
            "max": 29515,
            "_view_module": "@jupyter-widgets/controls",
            "_model_module_version": "1.5.0",
            "value": 29515,
            "_view_count": null,
            "_view_module_version": "1.5.0",
            "orientation": "horizontal",
            "min": 0,
            "description_tooltip": null,
            "_model_module": "@jupyter-widgets/controls",
            "layout": "IPY_MODEL_026fa97bcf24489bb0697c4488890be3"
          }
        },
        "08b7edf0378b4ca097f06b66f7dc56a9": {
          "model_module": "@jupyter-widgets/controls",
          "model_name": "HTMLModel",
          "state": {
            "_view_name": "HTMLView",
            "style": "IPY_MODEL_1783c7a4b11d4bd48f2bb14b50b56c03",
            "_dom_classes": [],
            "description": "",
            "_model_name": "HTMLModel",
            "placeholder": "​",
            "_view_module": "@jupyter-widgets/controls",
            "_model_module_version": "1.5.0",
            "value": " 29696/? [00:03&lt;00:00, 8383.31it/s]",
            "_view_count": null,
            "_view_module_version": "1.5.0",
            "description_tooltip": null,
            "_model_module": "@jupyter-widgets/controls",
            "layout": "IPY_MODEL_7d1a89bc5df9457dad0e698c8f669c18"
          }
        },
        "ee8a68820e0d44f7be4aa7f7477c6073": {
          "model_module": "@jupyter-widgets/controls",
          "model_name": "ProgressStyleModel",
          "state": {
            "_view_name": "StyleView",
            "_model_name": "ProgressStyleModel",
            "description_width": "initial",
            "_view_module": "@jupyter-widgets/base",
            "_model_module_version": "1.5.0",
            "_view_count": null,
            "_view_module_version": "1.2.0",
            "bar_color": null,
            "_model_module": "@jupyter-widgets/controls"
          }
        },
        "026fa97bcf24489bb0697c4488890be3": {
          "model_module": "@jupyter-widgets/base",
          "model_name": "LayoutModel",
          "state": {
            "_view_name": "LayoutView",
            "grid_template_rows": null,
            "right": null,
            "justify_content": null,
            "_view_module": "@jupyter-widgets/base",
            "overflow": null,
            "_model_module_version": "1.2.0",
            "_view_count": null,
            "flex_flow": null,
            "width": null,
            "min_width": null,
            "border": null,
            "align_items": null,
            "bottom": null,
            "_model_module": "@jupyter-widgets/base",
            "top": null,
            "grid_column": null,
            "overflow_y": null,
            "overflow_x": null,
            "grid_auto_flow": null,
            "grid_area": null,
            "grid_template_columns": null,
            "flex": null,
            "_model_name": "LayoutModel",
            "justify_items": null,
            "grid_row": null,
            "max_height": null,
            "align_content": null,
            "visibility": null,
            "align_self": null,
            "height": null,
            "min_height": null,
            "padding": null,
            "grid_auto_rows": null,
            "grid_gap": null,
            "max_width": null,
            "order": null,
            "_view_module_version": "1.2.0",
            "grid_template_areas": null,
            "object_position": null,
            "object_fit": null,
            "grid_auto_columns": null,
            "margin": null,
            "display": null,
            "left": null
          }
        },
        "1783c7a4b11d4bd48f2bb14b50b56c03": {
          "model_module": "@jupyter-widgets/controls",
          "model_name": "DescriptionStyleModel",
          "state": {
            "_view_name": "StyleView",
            "_model_name": "DescriptionStyleModel",
            "description_width": "",
            "_view_module": "@jupyter-widgets/base",
            "_model_module_version": "1.5.0",
            "_view_count": null,
            "_view_module_version": "1.2.0",
            "_model_module": "@jupyter-widgets/controls"
          }
        },
        "7d1a89bc5df9457dad0e698c8f669c18": {
          "model_module": "@jupyter-widgets/base",
          "model_name": "LayoutModel",
          "state": {
            "_view_name": "LayoutView",
            "grid_template_rows": null,
            "right": null,
            "justify_content": null,
            "_view_module": "@jupyter-widgets/base",
            "overflow": null,
            "_model_module_version": "1.2.0",
            "_view_count": null,
            "flex_flow": null,
            "width": null,
            "min_width": null,
            "border": null,
            "align_items": null,
            "bottom": null,
            "_model_module": "@jupyter-widgets/base",
            "top": null,
            "grid_column": null,
            "overflow_y": null,
            "overflow_x": null,
            "grid_auto_flow": null,
            "grid_area": null,
            "grid_template_columns": null,
            "flex": null,
            "_model_name": "LayoutModel",
            "justify_items": null,
            "grid_row": null,
            "max_height": null,
            "align_content": null,
            "visibility": null,
            "align_self": null,
            "height": null,
            "min_height": null,
            "padding": null,
            "grid_auto_rows": null,
            "grid_gap": null,
            "max_width": null,
            "order": null,
            "_view_module_version": "1.2.0",
            "grid_template_areas": null,
            "object_position": null,
            "object_fit": null,
            "grid_auto_columns": null,
            "margin": null,
            "display": null,
            "left": null
          }
        },
        "5940823cf661423f90e258dfedec74f6": {
          "model_module": "@jupyter-widgets/controls",
          "model_name": "HBoxModel",
          "state": {
            "_view_name": "HBoxView",
            "_dom_classes": [],
            "_model_name": "HBoxModel",
            "_view_module": "@jupyter-widgets/controls",
            "_model_module_version": "1.5.0",
            "_view_count": null,
            "_view_module_version": "1.5.0",
            "box_style": "",
            "layout": "IPY_MODEL_af0f0b49a4f04dc0879bc585f99122e3",
            "_model_module": "@jupyter-widgets/controls",
            "children": [
              "IPY_MODEL_1849834af1da4b3a85113e1a436f50a9",
              "IPY_MODEL_a08fa577a7e44325929cdabc89a8b635"
            ]
          }
        },
        "af0f0b49a4f04dc0879bc585f99122e3": {
          "model_module": "@jupyter-widgets/base",
          "model_name": "LayoutModel",
          "state": {
            "_view_name": "LayoutView",
            "grid_template_rows": null,
            "right": null,
            "justify_content": null,
            "_view_module": "@jupyter-widgets/base",
            "overflow": null,
            "_model_module_version": "1.2.0",
            "_view_count": null,
            "flex_flow": null,
            "width": null,
            "min_width": null,
            "border": null,
            "align_items": null,
            "bottom": null,
            "_model_module": "@jupyter-widgets/base",
            "top": null,
            "grid_column": null,
            "overflow_y": null,
            "overflow_x": null,
            "grid_auto_flow": null,
            "grid_area": null,
            "grid_template_columns": null,
            "flex": null,
            "_model_name": "LayoutModel",
            "justify_items": null,
            "grid_row": null,
            "max_height": null,
            "align_content": null,
            "visibility": null,
            "align_self": null,
            "height": null,
            "min_height": null,
            "padding": null,
            "grid_auto_rows": null,
            "grid_gap": null,
            "max_width": null,
            "order": null,
            "_view_module_version": "1.2.0",
            "grid_template_areas": null,
            "object_position": null,
            "object_fit": null,
            "grid_auto_columns": null,
            "margin": null,
            "display": null,
            "left": null
          }
        },
        "1849834af1da4b3a85113e1a436f50a9": {
          "model_module": "@jupyter-widgets/controls",
          "model_name": "FloatProgressModel",
          "state": {
            "_view_name": "ProgressView",
            "style": "IPY_MODEL_a2c6833648f24100b2ac4bd66009f1de",
            "_dom_classes": [],
            "description": "",
            "_model_name": "FloatProgressModel",
            "bar_style": "success",
            "max": 4422102,
            "_view_module": "@jupyter-widgets/controls",
            "_model_module_version": "1.5.0",
            "value": 4422102,
            "_view_count": null,
            "_view_module_version": "1.5.0",
            "orientation": "horizontal",
            "min": 0,
            "description_tooltip": null,
            "_model_module": "@jupyter-widgets/controls",
            "layout": "IPY_MODEL_eeaaf2cb8b6e4bf2aee0b6918da7c0da"
          }
        },
        "a08fa577a7e44325929cdabc89a8b635": {
          "model_module": "@jupyter-widgets/controls",
          "model_name": "HTMLModel",
          "state": {
            "_view_name": "HTMLView",
            "style": "IPY_MODEL_3d5d1711d2954d9cb2b45ce9281f014b",
            "_dom_classes": [],
            "description": "",
            "_model_name": "HTMLModel",
            "placeholder": "​",
            "_view_module": "@jupyter-widgets/controls",
            "_model_module_version": "1.5.0",
            "value": " 4422656/? [00:02&lt;00:00, 2143071.22it/s]",
            "_view_count": null,
            "_view_module_version": "1.5.0",
            "description_tooltip": null,
            "_model_module": "@jupyter-widgets/controls",
            "layout": "IPY_MODEL_d57828759e7a4f458bb6da791fda42b9"
          }
        },
        "a2c6833648f24100b2ac4bd66009f1de": {
          "model_module": "@jupyter-widgets/controls",
          "model_name": "ProgressStyleModel",
          "state": {
            "_view_name": "StyleView",
            "_model_name": "ProgressStyleModel",
            "description_width": "initial",
            "_view_module": "@jupyter-widgets/base",
            "_model_module_version": "1.5.0",
            "_view_count": null,
            "_view_module_version": "1.2.0",
            "bar_color": null,
            "_model_module": "@jupyter-widgets/controls"
          }
        },
        "eeaaf2cb8b6e4bf2aee0b6918da7c0da": {
          "model_module": "@jupyter-widgets/base",
          "model_name": "LayoutModel",
          "state": {
            "_view_name": "LayoutView",
            "grid_template_rows": null,
            "right": null,
            "justify_content": null,
            "_view_module": "@jupyter-widgets/base",
            "overflow": null,
            "_model_module_version": "1.2.0",
            "_view_count": null,
            "flex_flow": null,
            "width": null,
            "min_width": null,
            "border": null,
            "align_items": null,
            "bottom": null,
            "_model_module": "@jupyter-widgets/base",
            "top": null,
            "grid_column": null,
            "overflow_y": null,
            "overflow_x": null,
            "grid_auto_flow": null,
            "grid_area": null,
            "grid_template_columns": null,
            "flex": null,
            "_model_name": "LayoutModel",
            "justify_items": null,
            "grid_row": null,
            "max_height": null,
            "align_content": null,
            "visibility": null,
            "align_self": null,
            "height": null,
            "min_height": null,
            "padding": null,
            "grid_auto_rows": null,
            "grid_gap": null,
            "max_width": null,
            "order": null,
            "_view_module_version": "1.2.0",
            "grid_template_areas": null,
            "object_position": null,
            "object_fit": null,
            "grid_auto_columns": null,
            "margin": null,
            "display": null,
            "left": null
          }
        },
        "3d5d1711d2954d9cb2b45ce9281f014b": {
          "model_module": "@jupyter-widgets/controls",
          "model_name": "DescriptionStyleModel",
          "state": {
            "_view_name": "StyleView",
            "_model_name": "DescriptionStyleModel",
            "description_width": "",
            "_view_module": "@jupyter-widgets/base",
            "_model_module_version": "1.5.0",
            "_view_count": null,
            "_view_module_version": "1.2.0",
            "_model_module": "@jupyter-widgets/controls"
          }
        },
        "d57828759e7a4f458bb6da791fda42b9": {
          "model_module": "@jupyter-widgets/base",
          "model_name": "LayoutModel",
          "state": {
            "_view_name": "LayoutView",
            "grid_template_rows": null,
            "right": null,
            "justify_content": null,
            "_view_module": "@jupyter-widgets/base",
            "overflow": null,
            "_model_module_version": "1.2.0",
            "_view_count": null,
            "flex_flow": null,
            "width": null,
            "min_width": null,
            "border": null,
            "align_items": null,
            "bottom": null,
            "_model_module": "@jupyter-widgets/base",
            "top": null,
            "grid_column": null,
            "overflow_y": null,
            "overflow_x": null,
            "grid_auto_flow": null,
            "grid_area": null,
            "grid_template_columns": null,
            "flex": null,
            "_model_name": "LayoutModel",
            "justify_items": null,
            "grid_row": null,
            "max_height": null,
            "align_content": null,
            "visibility": null,
            "align_self": null,
            "height": null,
            "min_height": null,
            "padding": null,
            "grid_auto_rows": null,
            "grid_gap": null,
            "max_width": null,
            "order": null,
            "_view_module_version": "1.2.0",
            "grid_template_areas": null,
            "object_position": null,
            "object_fit": null,
            "grid_auto_columns": null,
            "margin": null,
            "display": null,
            "left": null
          }
        },
        "8e35c876a52b4af9998cd93fb676d9ef": {
          "model_module": "@jupyter-widgets/controls",
          "model_name": "HBoxModel",
          "state": {
            "_view_name": "HBoxView",
            "_dom_classes": [],
            "_model_name": "HBoxModel",
            "_view_module": "@jupyter-widgets/controls",
            "_model_module_version": "1.5.0",
            "_view_count": null,
            "_view_module_version": "1.5.0",
            "box_style": "",
            "layout": "IPY_MODEL_711a91f0c2224a57b512ec55385b3293",
            "_model_module": "@jupyter-widgets/controls",
            "children": [
              "IPY_MODEL_381c51e85f0f43c280517b37fac100b0",
              "IPY_MODEL_c9b05d433054471b83948a7dc6e513d3"
            ]
          }
        },
        "711a91f0c2224a57b512ec55385b3293": {
          "model_module": "@jupyter-widgets/base",
          "model_name": "LayoutModel",
          "state": {
            "_view_name": "LayoutView",
            "grid_template_rows": null,
            "right": null,
            "justify_content": null,
            "_view_module": "@jupyter-widgets/base",
            "overflow": null,
            "_model_module_version": "1.2.0",
            "_view_count": null,
            "flex_flow": null,
            "width": null,
            "min_width": null,
            "border": null,
            "align_items": null,
            "bottom": null,
            "_model_module": "@jupyter-widgets/base",
            "top": null,
            "grid_column": null,
            "overflow_y": null,
            "overflow_x": null,
            "grid_auto_flow": null,
            "grid_area": null,
            "grid_template_columns": null,
            "flex": null,
            "_model_name": "LayoutModel",
            "justify_items": null,
            "grid_row": null,
            "max_height": null,
            "align_content": null,
            "visibility": null,
            "align_self": null,
            "height": null,
            "min_height": null,
            "padding": null,
            "grid_auto_rows": null,
            "grid_gap": null,
            "max_width": null,
            "order": null,
            "_view_module_version": "1.2.0",
            "grid_template_areas": null,
            "object_position": null,
            "object_fit": null,
            "grid_auto_columns": null,
            "margin": null,
            "display": null,
            "left": null
          }
        },
        "381c51e85f0f43c280517b37fac100b0": {
          "model_module": "@jupyter-widgets/controls",
          "model_name": "FloatProgressModel",
          "state": {
            "_view_name": "ProgressView",
            "style": "IPY_MODEL_20a5a5f9fdbc436a86b8b8dd9aef1c11",
            "_dom_classes": [],
            "description": "",
            "_model_name": "FloatProgressModel",
            "bar_style": "success",
            "max": 5148,
            "_view_module": "@jupyter-widgets/controls",
            "_model_module_version": "1.5.0",
            "value": 5148,
            "_view_count": null,
            "_view_module_version": "1.5.0",
            "orientation": "horizontal",
            "min": 0,
            "description_tooltip": null,
            "_model_module": "@jupyter-widgets/controls",
            "layout": "IPY_MODEL_dfcd5ae1dc074417b212f4017b422797"
          }
        },
        "c9b05d433054471b83948a7dc6e513d3": {
          "model_module": "@jupyter-widgets/controls",
          "model_name": "HTMLModel",
          "state": {
            "_view_name": "HTMLView",
            "style": "IPY_MODEL_953de8ee735f4817b265d2a9d2d0f8e4",
            "_dom_classes": [],
            "description": "",
            "_model_name": "HTMLModel",
            "placeholder": "​",
            "_view_module": "@jupyter-widgets/controls",
            "_model_module_version": "1.5.0",
            "value": " 6144/? [00:00&lt;00:00, 27488.90it/s]",
            "_view_count": null,
            "_view_module_version": "1.5.0",
            "description_tooltip": null,
            "_model_module": "@jupyter-widgets/controls",
            "layout": "IPY_MODEL_158b2ca8f92044dbbd57b72a53c2af95"
          }
        },
        "20a5a5f9fdbc436a86b8b8dd9aef1c11": {
          "model_module": "@jupyter-widgets/controls",
          "model_name": "ProgressStyleModel",
          "state": {
            "_view_name": "StyleView",
            "_model_name": "ProgressStyleModel",
            "description_width": "initial",
            "_view_module": "@jupyter-widgets/base",
            "_model_module_version": "1.5.0",
            "_view_count": null,
            "_view_module_version": "1.2.0",
            "bar_color": null,
            "_model_module": "@jupyter-widgets/controls"
          }
        },
        "dfcd5ae1dc074417b212f4017b422797": {
          "model_module": "@jupyter-widgets/base",
          "model_name": "LayoutModel",
          "state": {
            "_view_name": "LayoutView",
            "grid_template_rows": null,
            "right": null,
            "justify_content": null,
            "_view_module": "@jupyter-widgets/base",
            "overflow": null,
            "_model_module_version": "1.2.0",
            "_view_count": null,
            "flex_flow": null,
            "width": null,
            "min_width": null,
            "border": null,
            "align_items": null,
            "bottom": null,
            "_model_module": "@jupyter-widgets/base",
            "top": null,
            "grid_column": null,
            "overflow_y": null,
            "overflow_x": null,
            "grid_auto_flow": null,
            "grid_area": null,
            "grid_template_columns": null,
            "flex": null,
            "_model_name": "LayoutModel",
            "justify_items": null,
            "grid_row": null,
            "max_height": null,
            "align_content": null,
            "visibility": null,
            "align_self": null,
            "height": null,
            "min_height": null,
            "padding": null,
            "grid_auto_rows": null,
            "grid_gap": null,
            "max_width": null,
            "order": null,
            "_view_module_version": "1.2.0",
            "grid_template_areas": null,
            "object_position": null,
            "object_fit": null,
            "grid_auto_columns": null,
            "margin": null,
            "display": null,
            "left": null
          }
        },
        "953de8ee735f4817b265d2a9d2d0f8e4": {
          "model_module": "@jupyter-widgets/controls",
          "model_name": "DescriptionStyleModel",
          "state": {
            "_view_name": "StyleView",
            "_model_name": "DescriptionStyleModel",
            "description_width": "",
            "_view_module": "@jupyter-widgets/base",
            "_model_module_version": "1.5.0",
            "_view_count": null,
            "_view_module_version": "1.2.0",
            "_model_module": "@jupyter-widgets/controls"
          }
        },
        "158b2ca8f92044dbbd57b72a53c2af95": {
          "model_module": "@jupyter-widgets/base",
          "model_name": "LayoutModel",
          "state": {
            "_view_name": "LayoutView",
            "grid_template_rows": null,
            "right": null,
            "justify_content": null,
            "_view_module": "@jupyter-widgets/base",
            "overflow": null,
            "_model_module_version": "1.2.0",
            "_view_count": null,
            "flex_flow": null,
            "width": null,
            "min_width": null,
            "border": null,
            "align_items": null,
            "bottom": null,
            "_model_module": "@jupyter-widgets/base",
            "top": null,
            "grid_column": null,
            "overflow_y": null,
            "overflow_x": null,
            "grid_auto_flow": null,
            "grid_area": null,
            "grid_template_columns": null,
            "flex": null,
            "_model_name": "LayoutModel",
            "justify_items": null,
            "grid_row": null,
            "max_height": null,
            "align_content": null,
            "visibility": null,
            "align_self": null,
            "height": null,
            "min_height": null,
            "padding": null,
            "grid_auto_rows": null,
            "grid_gap": null,
            "max_width": null,
            "order": null,
            "_view_module_version": "1.2.0",
            "grid_template_areas": null,
            "object_position": null,
            "object_fit": null,
            "grid_auto_columns": null,
            "margin": null,
            "display": null,
            "left": null
          }
        }
      }
    },
    "language_info": {
      "name": "python"
    }
  },
  "cells": [
    {
      "cell_type": "markdown",
      "metadata": {
        "id": "saItxTU2Vs9p"
      },
      "source": [
        "# Deep Learning 2021\n",
        "## Assignment 8 - Unsupervised Approaches\n"
      ]
    },
    {
      "cell_type": "markdown",
      "metadata": {
        "id": "lZBXUDDeVs-B"
      },
      "source": [
        "## 1. Autoencoders\n",
        "Answer the following questions on autoencoders:\n",
        "\n",
        "1. Is an Autoencoder for supervised learning or for unsupervised learning? Please explain your answer briefly.\n",
        "2. What is the difference between an _Undercomplete_ and _Overcomplete_ Autoencoder?\n",
        "3. What is the objective of Denoising Autoencoders and Contractive Autoencoders?\n",
        "4. What is the similarity between autoencoder and PCA? How are the two different? What constrain would you apply to an autoencoder to make it similar to a PCA method?"
      ]
    },
    {
      "cell_type": "markdown",
      "metadata": {
        "id": "CBPWdq1XAS4t"
      },
      "source": [
        "#### Solution:\n",
        "1. Autoencoder is for unsupervised learning, bacause it has encoder and decoder.Encoder learn the features of the original data, and decoder output it's reconstruction.\n",
        "2. Hidden layer is Undercomplete if hidden layer is smaller than the input layer, hidden layer is Overcomplete if greater than the input layer.\n",
        "3. They can learn the correlations of input's features."
      ]
    },
    {
      "cell_type": "markdown",
      "metadata": {
        "id": "jaZqJsZ-AS4y"
      },
      "source": [
        "## 2. GANs\n",
        "Answer the following questions on GANs:\n",
        "\n",
        "1. Give two examples of a Minimax Scenario outside Deep Learning and Computer Games.\n",
        "2. Why is the discriminator trained with gradient ascent and not descent by default?\n",
        "3. In practice, why it is not a good idea to learn parameters from the generator and discriminator at the same time?"
      ]
    },
    {
      "cell_type": "markdown",
      "metadata": {
        "id": "DFUqrtT3AS40"
      },
      "source": [
        "### Solution:\n"
      ]
    },
    {
      "cell_type": "markdown",
      "metadata": {
        "id": "3ki86O6nAS48"
      },
      "source": [
        "## C1. Autoencoder\n",
        "Your task is to train an autoencoder on the [FashionMNIST dataset](https://github.com/zalandoresearch/fashion-mnist) containing grayscale Zalando article images of 10 different categories. The data setup is already provided and should feel familiar from previous assignments. You should:\n",
        "\n",
        "* Implement an autoencoder with the following architecture:\n",
        "    * encoder: flatten the input, then apply two fully connected layers, one with 256 hidden neurons and the second one with 64 hidden neurons. Apply a ReLU after every fully connected layer.\n",
        "    * decoder: symmetric to the encoder layers.\n",
        "\n",
        "* Train the network for 20 epochs, with a learning rate of 0.001 and the Adam optimizer, using a mean-squared-error (MSE) input reconstruction loss. For each epoch, compute the train loss and eval loss (average over batches).\n",
        "\n",
        "* Try to visualize some of the reconstructed images, for example by creating a modified version of the given `show_examples` function that additionaly plots the reconstructed image."
      ]
    },
    {
      "cell_type": "code",
      "metadata": {
        "colab": {
          "base_uri": "https://localhost:8080/",
          "height": 1000,
          "referenced_widgets": [
            "c01961fcaa97415e975336aa3e8e6897",
            "326a1daf70f741f7ac6cc955d970a782",
            "908605f86f654028879429c014c5f6aa",
            "58881ba77a0c4d19b35a77e190387e31",
            "57661c4d6c1440eeb7ee28f2840665d8",
            "06919146e478462f94610cbf88fbf88c",
            "c90f7e7c0e024df4993c54ad4278abd9",
            "015a829c7a1b4ddb8a91fd23006d49ec",
            "24115a6399734b21a0c1046f1e8054e1",
            "491bc2664eb4447daead97c0e61e976e",
            "d6761df4eee7408b92b3898f6df1e097",
            "08b7edf0378b4ca097f06b66f7dc56a9",
            "ee8a68820e0d44f7be4aa7f7477c6073",
            "026fa97bcf24489bb0697c4488890be3",
            "1783c7a4b11d4bd48f2bb14b50b56c03",
            "7d1a89bc5df9457dad0e698c8f669c18",
            "5940823cf661423f90e258dfedec74f6",
            "af0f0b49a4f04dc0879bc585f99122e3",
            "1849834af1da4b3a85113e1a436f50a9",
            "a08fa577a7e44325929cdabc89a8b635",
            "a2c6833648f24100b2ac4bd66009f1de",
            "eeaaf2cb8b6e4bf2aee0b6918da7c0da",
            "3d5d1711d2954d9cb2b45ce9281f014b",
            "d57828759e7a4f458bb6da791fda42b9",
            "8e35c876a52b4af9998cd93fb676d9ef",
            "711a91f0c2224a57b512ec55385b3293",
            "381c51e85f0f43c280517b37fac100b0",
            "c9b05d433054471b83948a7dc6e513d3",
            "20a5a5f9fdbc436a86b8b8dd9aef1c11",
            "dfcd5ae1dc074417b212f4017b422797",
            "953de8ee735f4817b265d2a9d2d0f8e4",
            "158b2ca8f92044dbbd57b72a53c2af95"
          ]
        },
        "id": "mSWM6AEbOuzw",
        "outputId": "ad0f7750-a793-444e-9196-3e1589fdf14d"
      },
      "source": [
        "import torch\n",
        "import torch.nn as nn\n",
        "import torch.optim as optim\n",
        "import torchvision\n",
        "import matplotlib.pyplot as plt\n",
        "\n",
        "train_dataset = torchvision.datasets.FashionMNIST(root=\".\", train=True, transform=torchvision.transforms.ToTensor(), download=True)\n",
        "eval_dataset = torchvision.datasets.FashionMNIST(root=\".\", train=False, transform=torchvision.transforms.ToTensor(), download=True)\n",
        "\n",
        "batch_size = 1024\n",
        "\n",
        "train_loader = torch.utils.data.DataLoader(train_dataset, batch_size=batch_size, num_workers=2, shuffle=True)\n",
        "eval_loader = torch.utils.data.DataLoader(eval_dataset, batch_size=batch_size, num_workers=2)\n",
        "\n",
        "def show_examples(n):\n",
        "    for i in range(n):\n",
        "        index = torch.randint(0, len(train_dataset), size=(1,)).item() # select a random example\n",
        "        image, target = train_dataset[index]\n",
        "        print(f'image of shape: {image.shape}')\n",
        "        print(f'label: {train_dataset.classes[target]}')\n",
        "        plt.imshow(image.squeeze().numpy(), cmap='gray')\n",
        "        plt.show()\n",
        "\n",
        "show_examples(4)"
      ],
      "execution_count": 1,
      "outputs": [
        {
          "output_type": "stream",
          "text": [
            "Downloading http://fashion-mnist.s3-website.eu-central-1.amazonaws.com/train-images-idx3-ubyte.gz\n",
            "Downloading http://fashion-mnist.s3-website.eu-central-1.amazonaws.com/train-images-idx3-ubyte.gz to ./FashionMNIST/raw/train-images-idx3-ubyte.gz\n"
          ],
          "name": "stdout"
        },
        {
          "output_type": "display_data",
          "data": {
            "application/vnd.jupyter.widget-view+json": {
              "model_id": "c01961fcaa97415e975336aa3e8e6897",
              "version_minor": 0,
              "version_major": 2
            },
            "text/plain": [
              "HBox(children=(FloatProgress(value=0.0, max=26421880.0), HTML(value='')))"
            ]
          },
          "metadata": {
            "tags": []
          }
        },
        {
          "output_type": "stream",
          "text": [
            "\n",
            "Extracting ./FashionMNIST/raw/train-images-idx3-ubyte.gz to ./FashionMNIST/raw\n",
            "\n",
            "Downloading http://fashion-mnist.s3-website.eu-central-1.amazonaws.com/train-labels-idx1-ubyte.gz\n",
            "Downloading http://fashion-mnist.s3-website.eu-central-1.amazonaws.com/train-labels-idx1-ubyte.gz to ./FashionMNIST/raw/train-labels-idx1-ubyte.gz\n"
          ],
          "name": "stdout"
        },
        {
          "output_type": "display_data",
          "data": {
            "application/vnd.jupyter.widget-view+json": {
              "model_id": "24115a6399734b21a0c1046f1e8054e1",
              "version_minor": 0,
              "version_major": 2
            },
            "text/plain": [
              "HBox(children=(FloatProgress(value=0.0, max=29515.0), HTML(value='')))"
            ]
          },
          "metadata": {
            "tags": []
          }
        },
        {
          "output_type": "stream",
          "text": [
            "\n",
            "Extracting ./FashionMNIST/raw/train-labels-idx1-ubyte.gz to ./FashionMNIST/raw\n",
            "\n",
            "Downloading http://fashion-mnist.s3-website.eu-central-1.amazonaws.com/t10k-images-idx3-ubyte.gz\n",
            "Downloading http://fashion-mnist.s3-website.eu-central-1.amazonaws.com/t10k-images-idx3-ubyte.gz to ./FashionMNIST/raw/t10k-images-idx3-ubyte.gz\n"
          ],
          "name": "stdout"
        },
        {
          "output_type": "display_data",
          "data": {
            "application/vnd.jupyter.widget-view+json": {
              "model_id": "5940823cf661423f90e258dfedec74f6",
              "version_minor": 0,
              "version_major": 2
            },
            "text/plain": [
              "HBox(children=(FloatProgress(value=0.0, max=4422102.0), HTML(value='')))"
            ]
          },
          "metadata": {
            "tags": []
          }
        },
        {
          "output_type": "stream",
          "text": [
            "\n",
            "Extracting ./FashionMNIST/raw/t10k-images-idx3-ubyte.gz to ./FashionMNIST/raw\n",
            "\n",
            "Downloading http://fashion-mnist.s3-website.eu-central-1.amazonaws.com/t10k-labels-idx1-ubyte.gz\n",
            "Downloading http://fashion-mnist.s3-website.eu-central-1.amazonaws.com/t10k-labels-idx1-ubyte.gz to ./FashionMNIST/raw/t10k-labels-idx1-ubyte.gz\n"
          ],
          "name": "stdout"
        },
        {
          "output_type": "display_data",
          "data": {
            "application/vnd.jupyter.widget-view+json": {
              "model_id": "8e35c876a52b4af9998cd93fb676d9ef",
              "version_minor": 0,
              "version_major": 2
            },
            "text/plain": [
              "HBox(children=(FloatProgress(value=0.0, max=5148.0), HTML(value='')))"
            ]
          },
          "metadata": {
            "tags": []
          }
        },
        {
          "output_type": "stream",
          "text": [
            "\n",
            "Extracting ./FashionMNIST/raw/t10k-labels-idx1-ubyte.gz to ./FashionMNIST/raw\n",
            "\n",
            "Processing...\n",
            "Done!\n",
            "image of shape: torch.Size([1, 28, 28])\n",
            "label: Trouser\n"
          ],
          "name": "stdout"
        },
        {
          "output_type": "stream",
          "text": [
            "/usr/local/lib/python3.7/dist-packages/torchvision/datasets/mnist.py:502: UserWarning: The given NumPy array is not writeable, and PyTorch does not support non-writeable tensors. This means you can write to the underlying (supposedly non-writeable) NumPy array using the tensor. You may want to copy the array to protect its data or make it writeable before converting it to a tensor. This type of warning will be suppressed for the rest of this program. (Triggered internally at  /pytorch/torch/csrc/utils/tensor_numpy.cpp:143.)\n",
            "  return torch.from_numpy(parsed.astype(m[2], copy=False)).view(*s)\n"
          ],
          "name": "stderr"
        },
        {
          "output_type": "display_data",
          "data": {
            "image/png": "[encoded data removed]",
            "text/plain": [
              "<Figure size 432x288 with 1 Axes>"
            ]
          },
          "metadata": {
            "tags": [],
            "needs_background": "light"
          }
        },
        {
          "output_type": "stream",
          "text": [
            "image of shape: torch.Size([1, 28, 28])\n",
            "label: Pullover\n"
          ],
          "name": "stdout"
        },
        {
          "output_type": "display_data",
          "data": {
            "image/png": "[encoded data removed]",
            "text/plain": [
              "<Figure size 432x288 with 1 Axes>"
            ]
          },
          "metadata": {
            "tags": [],
            "needs_background": "light"
          }
        },
        {
          "output_type": "stream",
          "text": [
            "image of shape: torch.Size([1, 28, 28])\n",
            "label: Trouser\n"
          ],
          "name": "stdout"
        },
        {
          "output_type": "display_data",
          "data": {
            "image/png": "[encoded data removed]",
            "text/plain": [
              "<Figure size 432x288 with 1 Axes>"
            ]
          },
          "metadata": {
            "tags": [],
            "needs_background": "light"
          }
        },
        {
          "output_type": "stream",
          "text": [
            "image of shape: torch.Size([1, 28, 28])\n",
            "label: T-shirt/top\n"
          ],
          "name": "stdout"
        },
        {
          "output_type": "display_data",
          "data": {
            "image/png": "[encoded data removed]",
            "text/plain": [
              "<Figure size 432x288 with 1 Axes>"
            ]
          },
          "metadata": {
            "tags": [],
            "needs_background": "light"
          }
        }
      ]
    },
    {
      "cell_type": "code",
      "metadata": {
        "id": "SejeWZa-lpmu"
      },
      "source": [
        "# your solution goes here\n",
        "class autoencoder(nn.Module):\n",
        "    def __init__(self):\n",
        "        super(autoencoder, self).__init__()\n",
        "        self.encoder = nn.Sequential(\n",
        "            nn.Flatten(),\n",
        "            nn.Linear(28*28, 256),\n",
        "            nn.ReLU(),\n",
        "            nn.Linear(256, 64),\n",
        "            nn.ReLU()\n",
        "        )\n",
        "        self.decoder = nn.Sequential(\n",
        "            nn.Linear(64, 256),\n",
        "            nn.ReLU(),\n",
        "            nn.Linear(256, 28*28),\n",
        "            nn.ReLU()\n",
        "        )\n",
        "    def forward(self, x):\n",
        "        batch_size = x.size(0)\n",
        "        x = self.encoder(x)\n",
        "        x = self.decoder(x)\n",
        "        out = x.view(batch_size, 1, 28, 28)\n",
        "        return out\n"
      ],
      "execution_count": 2,
      "outputs": []
    },
    {
      "cell_type": "code",
      "metadata": {
        "id": "c43Ypuucb90z"
      },
      "source": [
        "mynet = autoencoder()\n",
        "optimizer = optim.Adam(mynet.parameters(), lr=0.001)\n",
        "loss_function = nn.MSELoss()"
      ],
      "execution_count": 3,
      "outputs": []
    },
    {
      "cell_type": "code",
      "metadata": {
        "colab": {
          "base_uri": "https://localhost:8080/"
        },
        "id": "Z5RdIoG7dWdd",
        "outputId": "5626aa38-b478-4e75-e115-c23c5ea60e6b"
      },
      "source": [
        "for epoch in range(20):\n",
        "    print(\"training epoch %d: \" % epoch)\n",
        "    train_loss = 0\n",
        "    eval_loss = 0\n",
        "    for step, (batch_x, batch_y) in enumerate(train_loader):\n",
        "        \n",
        "\n",
        "        output = mynet(batch_x)\n",
        "        loss = loss_function(output, batch_x)\n",
        "        train_loss = train_loss + loss\n",
        "        optimizer.zero_grad()\n",
        "        loss.backward()\n",
        "        optimizer.step()\n",
        "    \n",
        "    train_loss = train_loss / len(train_loader)\n",
        "    print(\"train loss : %.4f\" % train_loss)\n",
        "    for step, (batch_x, batch_y) in enumerate(eval_loader):\n",
        "        \n",
        "\n",
        "        output = mynet(batch_x)\n",
        "        loss = loss_function(output, batch_x)\n",
        "        eval_loss = eval_loss + loss\n",
        "\n",
        "    eval_loss = eval_loss / len(eval_loader)\n",
        "    print(\"evalution loss : %.4f\" % eval_loss)"
      ],
      "execution_count": 4,
      "outputs": [
        {
          "output_type": "stream",
          "text": [
            "training epoch 0: \n",
            "train loss : 0.0871\n",
            "evalution loss : 0.0564\n",
            "training epoch 1: \n",
            "train loss : 0.0460\n",
            "evalution loss : 0.0400\n",
            "training epoch 2: \n",
            "train loss : 0.0370\n",
            "evalution loss : 0.0343\n",
            "training epoch 3: \n",
            "train loss : 0.0329\n",
            "evalution loss : 0.0320\n",
            "training epoch 4: \n",
            "train loss : 0.0310\n",
            "evalution loss : 0.0305\n",
            "training epoch 5: \n",
            "train loss : 0.0299\n",
            "evalution loss : 0.0296\n",
            "training epoch 6: \n",
            "train loss : 0.0291\n",
            "evalution loss : 0.0287\n",
            "training epoch 7: \n",
            "train loss : 0.0282\n",
            "evalution loss : 0.0276\n",
            "training epoch 8: \n",
            "train loss : 0.0271\n",
            "evalution loss : 0.0269\n",
            "training epoch 9: \n",
            "train loss : 0.0266\n",
            "evalution loss : 0.0265\n",
            "training epoch 10: \n",
            "train loss : 0.0262\n",
            "evalution loss : 0.0262\n",
            "training epoch 11: \n",
            "train loss : 0.0259\n",
            "evalution loss : 0.0259\n",
            "training epoch 12: \n",
            "train loss : 0.0256\n",
            "evalution loss : 0.0256\n",
            "training epoch 13: \n",
            "train loss : 0.0254\n",
            "evalution loss : 0.0251\n",
            "training epoch 14: \n",
            "train loss : 0.0248\n",
            "evalution loss : 0.0248\n",
            "training epoch 15: \n",
            "train loss : 0.0244\n",
            "evalution loss : 0.0242\n",
            "training epoch 16: \n",
            "train loss : 0.0240\n",
            "evalution loss : 0.0241\n",
            "training epoch 17: \n",
            "train loss : 0.0239\n",
            "evalution loss : 0.0239\n",
            "training epoch 18: \n",
            "train loss : 0.0237\n",
            "evalution loss : 0.0239\n",
            "training epoch 19: \n",
            "train loss : 0.0236\n",
            "evalution loss : 0.0236\n"
          ],
          "name": "stdout"
        }
      ]
    },
    {
      "cell_type": "code",
      "metadata": {
        "colab": {
          "base_uri": "https://localhost:8080/",
          "height": 1000
        },
        "id": "f8QY0auEeilN",
        "outputId": "8153c299-5deb-45e1-e627-3ac8ef139b05"
      },
      "source": [
        "for step, (batch_x, batch_y) in enumerate(train_loader):\n",
        "        #train\n",
        "        #if(train_on_gpu):\n",
        "        #    batch_x, batch_y = batch_x.cuda(), batch_y.cuda()\n",
        "        #batch_x = batch_x.to(device)\n",
        "        #batch_y = batch_y.to(device)\n",
        "\n",
        "        output = mynet(batch_x)\n",
        "        break\n",
        "\n",
        "reconstruction = output\n",
        "\n",
        "def show_examples(n):\n",
        "    for i in range(n):\n",
        "        index = torch.randint(0, len(reconstruction), size=(1,)).item() # select a random example\n",
        "        image = reconstruction[index]\n",
        "        plt.imshow(image.squeeze().detach().numpy(), cmap='gray')\n",
        "        plt.show()\n",
        "\n",
        "show_examples(4)\n"
      ],
      "execution_count": 5,
      "outputs": [
        {
          "output_type": "display_data",
          "data": {
            "image/png": "[encoded data removed]",
            "text/plain": [
              "<Figure size 432x288 with 1 Axes>"
            ]
          },
          "metadata": {
            "tags": [],
            "needs_background": "light"
          }
        },
        {
          "output_type": "display_data",
          "data": {
            "image/png": "[encoded data removed]",
            "text/plain": [
              "<Figure size 432x288 with 1 Axes>"
            ]
          },
          "metadata": {
            "tags": [],
            "needs_background": "light"
          }
        },
        {
          "output_type": "display_data",
          "data": {
            "image/png": "[encoded data removed]",
            "text/plain": [
              "<Figure size 432x288 with 1 Axes>"
            ]
          },
          "metadata": {
            "tags": [],
            "needs_background": "light"
          }
        },
        {
          "output_type": "display_data",
          "data": {
            "image/png": "[encoded data removed]",
            "text/plain": [
              "<Figure size 432x288 with 1 Axes>"
            ]
          },
          "metadata": {
            "tags": [],
            "needs_background": "light"
          }
        }
      ]
    },
    {
      "cell_type": "markdown",
      "metadata": {
        "id": "fze0UGGeAS57"
      },
      "source": [
        "## C2. GAN\n",
        "Train a Generative Adversarial Network to generate handwritten digits on the MNIST dataset. Again, the data setup is already given. The images are of size (1x28x28)\n",
        "Your GAN should be built using the following components:\n",
        "- A Generator that\n",
        "    - as input, uses 100 dim latent vector sampled from a normal distribution around mean=0 and std=1.\n",
        "    - has 5 fully connected layers, with dimensions 128->256->512->1024->28*28\n",
        "    - applies 1d batch normalization after the first 4 layers\n",
        "    - applies a LeakyReLU with a negative slope of 0.2 after the first 4 layers (after  batchnorm)\n",
        "    - uses a Tanh activation after the last layer, to generate pixel values between -1 and 1.\n",
        "- A Discriminator that\n",
        "    - as input, takes an image of flattened size 28*28\n",
        "    - has 3 fully connected layers, with dimensions 28*28->512->256->1\n",
        "    - applies a LeakyReLU with a negative slope of 0.2 after the first 2 layers\n",
        "    - uses a sigmoid activation after the last layer, to output probabilities between 0 and 1.\n",
        "\n",
        "- Two optimizers, one for the generator and one for the discriminator. Use Adam with a learning rate of 0.001 and betas=(.5, .999).\n",
        "- Binary Cross Entropy loss\n",
        "\n",
        "Train your GAN for some epochs. For every batch you should:\n",
        "- use a vector of zeros as your target vector indicating fake images\n",
        "- use a vector of ones as your target vector indicating real images\n",
        "- train the generator by \n",
        "    - sampling a random latent vector\n",
        "    - generate a batch of fake images using the generator\n",
        "    - compute the loss using the discriminators predictions. As groundtruth, use the label that indicates the images are real.\n",
        "- train the discriminator by\n",
        "    - computing the loss for both the generated fake images and the real images from the batch, using the corresponding target vectors.\n",
        "\n",
        "Try to visualize some generated images every few epochs. \n",
        "\n",
        "Note: GANs are difficult to train. We will keep that in mind when grading your submissions."
      ]
    },
    {
      "cell_type": "code",
      "metadata": {
        "colab": {
          "base_uri": "https://localhost:8080/",
          "height": 1000
        },
        "id": "RBJ68_wqi53d",
        "outputId": "6f873c06-7f4c-4cf9-ee42-5a3177ef1ce8"
      },
      "source": [
        "import torch\n",
        "import torch.nn as nn\n",
        "import torch.optim as optim\n",
        "import torchvision as tv\n",
        "import matplotlib.pyplot as plt\n",
        "\n",
        "batch_size = 64\n",
        "\n",
        "tfms = tv.transforms.Compose([\n",
        "    tv.transforms.ToTensor(),\n",
        "    tv.transforms.Normalize(mean=[0.5], std=[0.5])\n",
        "])\n",
        "\n",
        "train_dataset = tv.datasets.MNIST(root='./mnist', train=True, transform=tfms, download=True)\n",
        "classes = train_dataset.classes\n",
        "train_loader = torch.utils.data.DataLoader(dataset=train_dataset, batch_size=batch_size, shuffle=True)\n",
        "\n",
        "def show_examples(n):\n",
        "    for i in range(n):\n",
        "        index = torch.randint(0, len(train_dataset), size=(1,)).item() # select a random example\n",
        "        print(index)\n",
        "        image, target = train_dataset[index]\n",
        "        print(f'image of shape: {image.shape}')\n",
        "        print(f'label: {classes[target]}')\n",
        "        plt.imshow(image.squeeze().numpy(), cmap='gray')\n",
        "        plt.show()\n",
        "\n",
        "show_examples(4)"
      ],
      "execution_count": 6,
      "outputs": [
        {
          "output_type": "stream",
          "text": [
            "11570\n",
            "image of shape: torch.Size([1, 28, 28])\n",
            "label: 3 - three\n"
          ],
          "name": "stdout"
        },
        {
          "output_type": "display_data",
          "data": {
            "image/png": "[encoded data removed]",
            "text/plain": [
              "<Figure size 432x288 with 1 Axes>"
            ]
          },
          "metadata": {
            "tags": [],
            "needs_background": "light"
          }
        },
        {
          "output_type": "stream",
          "text": [
            "53819\n",
            "image of shape: torch.Size([1, 28, 28])\n",
            "label: 2 - two\n"
          ],
          "name": "stdout"
        },
        {
          "output_type": "display_data",
          "data": {
            "image/png": "[encoded data removed]",
            "text/plain": [
              "<Figure size 432x288 with 1 Axes>"
            ]
          },
          "metadata": {
            "tags": [],
            "needs_background": "light"
          }
        },
        {
          "output_type": "stream",
          "text": [
            "40490\n",
            "image of shape: torch.Size([1, 28, 28])\n",
            "label: 3 - three\n"
          ],
          "name": "stdout"
        },
        {
          "output_type": "display_data",
          "data": {
            "image/png": "[encoded data removed]",
            "text/plain": [
              "<Figure size 432x288 with 1 Axes>"
            ]
          },
          "metadata": {
            "tags": [],
            "needs_background": "light"
          }
        },
        {
          "output_type": "stream",
          "text": [
            "21051\n",
            "image of shape: torch.Size([1, 28, 28])\n",
            "label: 1 - one\n"
          ],
          "name": "stdout"
        },
        {
          "output_type": "display_data",
          "data": {
            "image/png": "[encoded data removed]",
            "text/plain": [
              "<Figure size 432x288 with 1 Axes>"
            ]
          },
          "metadata": {
            "tags": [],
            "needs_background": "light"
          }
        }
      ]
    },
    {
      "cell_type": "code",
      "metadata": {
        "id": "8xLHlx3zm2Sd"
      },
      "source": [
        "# your solution goes here\n",
        "class Generator(nn.Module):\n",
        "    def __init__(self):\n",
        "        super(Generator, self).__init__()\n",
        "        self.fc1 = nn.Sequential(\n",
        "            nn.Linear(100, 128),\n",
        "            nn.BatchNorm1d(128),\n",
        "            nn.LeakyReLU(0.2)\n",
        "        )\n",
        "        self.fc2 = nn.Sequential(\n",
        "            nn.Linear(128, 256),\n",
        "            nn.BatchNorm1d(256),\n",
        "            nn.LeakyReLU(0.2)\n",
        "        )\n",
        "        self.fc3 = nn.Sequential(\n",
        "            nn.Linear(256, 512),\n",
        "            nn.BatchNorm1d(512),\n",
        "            nn.LeakyReLU(0.2)\n",
        "        )\n",
        "        self.fc4 = nn.Sequential(\n",
        "            nn.Linear(512, 1024),\n",
        "            nn.BatchNorm1d(1024),\n",
        "            nn.LeakyReLU(0.2)\n",
        "        )\n",
        "        self.fc5 = nn.Sequential(\n",
        "            nn.Linear(1024, 28*28),\n",
        "            nn.Tanh()\n",
        "        )\n",
        "    def forward(self, x):\n",
        "        x = self.fc1(x)\n",
        "        x = self.fc2(x)\n",
        "        x = self.fc3(x)\n",
        "        x = self.fc4(x)\n",
        "        out = self.fc5(x)\n",
        "        return out\n"
      ],
      "execution_count": 7,
      "outputs": []
    },
    {
      "cell_type": "code",
      "metadata": {
        "id": "MUPs_zDFv1fC"
      },
      "source": [
        "class Discriminator(nn.Module):\n",
        "    def __init__(self):\n",
        "        super(Discriminator, self).__init__()\n",
        "        self.fc1 = nn.Sequential(\n",
        "            nn.Linear(28*28, 512),\n",
        "            nn.LeakyReLU(0.2)\n",
        "        )\n",
        "        self.fc2 = nn.Sequential(\n",
        "            nn.Linear(512, 256),\n",
        "            nn.LeakyReLU(0.2)\n",
        "        )\n",
        "        self.fc3 = nn.Sequential(\n",
        "            nn.Linear(256, 1),\n",
        "            nn.Sigmoid()\n",
        "        )\n",
        "    def forward(self, x):\n",
        "        x = self.fc1(x)\n",
        "        x = self.fc2(x)\n",
        "        out = self.fc3(x)\n",
        "        return out"
      ],
      "execution_count": 8,
      "outputs": []
    },
    {
      "cell_type": "code",
      "metadata": {
        "id": "PDCxElLPyObc"
      },
      "source": [
        "generator = Generator()\n",
        "discriminator = Discriminator()\n",
        "\n",
        "optimizer_gene = optim.Adam(generator.parameters(), lr=0.001, betas=(0.5, 0.999))\n",
        "optimizer_dis = optim.Adam(discriminator.parameters(), lr=0.001, betas=(0.5, 0.999))\n",
        "\n",
        "loss_function = nn.BCELoss()"
      ],
      "execution_count": 9,
      "outputs": []
    },
    {
      "cell_type": "code",
      "metadata": {
        "id": "F5jtXkAn6OBJ"
      },
      "source": [
        "def Gene_train(x, epoch, step):\n",
        "    batch_size = x.size()[0]\n",
        "    latend = torch.randn(batch_size, 100)\n",
        "    fake_label = torch.ones(batch_size, 1) #to train generator\n",
        "    gene_output = generator(latend)\n",
        "    dis_output = discriminator(gene_output)\n",
        "\n",
        "    gene_loss = loss_function(dis_output, fake_label)\n",
        "    optimizer_gene.zero_grad()\n",
        "    gene_loss.backward()\n",
        "    \n",
        "    optimizer_gene.step()\n",
        "\n",
        "    if epoch % 3 == 0 and step % 300== 0:\n",
        "        index = torch.randint(0, batch_size, size=(1,)).item()\n",
        "        img = gene_output[index]\n",
        "        img = img.view(1, 28, 28)\n",
        "        plt.imshow(img.squeeze().detach().numpy(), cmap='gray')\n",
        "        plt.show()\n",
        "\n",
        "\n",
        "    return gene_loss\n",
        "\n",
        "\n"
      ],
      "execution_count": 10,
      "outputs": []
    },
    {
      "cell_type": "code",
      "metadata": {
        "id": "GSTwZPMDDUtA"
      },
      "source": [
        "def Dis_train(x):\n",
        "    batch_size = x.size()[0]\n",
        "    x = x.view(-1, 28*28)\n",
        "    real_label = torch.ones(batch_size, 1)\n",
        "    dis_real_output = discriminator(x)\n",
        "    dis_real_loss = loss_function(dis_real_output, real_label)\n",
        "\n",
        "\n",
        "    latend = torch.randn(batch_size, 100)\n",
        "    fake_label = torch.zeros(batch_size, 1)\n",
        "    gene_fake_output = generator(latend)\n",
        "    dis_fake_output = discriminator(gene_fake_output)\n",
        "    dis_fake_loss = loss_function(dis_fake_output, fake_label)\n",
        "\n",
        "    dis_loss = dis_real_loss + dis_fake_loss\n",
        "    optimizer_gene.zero_grad()\n",
        "    optimizer_dis.zero_grad()\n",
        "    dis_loss.backward()\n",
        "    optimizer_dis.step()\n",
        "\n",
        "    return dis_loss\n"
      ],
      "execution_count": 11,
      "outputs": []
    },
    {
      "cell_type": "code",
      "metadata": {
        "colab": {
          "base_uri": "https://localhost:8080/",
          "height": 1000
        },
        "id": "ReqBaafkHXHB",
        "outputId": "b1ef3b5e-dd03-4fc4-b3e0-4ee0623bddd7"
      },
      "source": [
        "for epoch in range(10):\n",
        "    print(\"Training epoch %d\" % epoch)\n",
        "    gene_total_loss =0\n",
        "    dis_total_loss =0\n",
        "    for step, (batch_x, batch_y) in enumerate(train_loader):\n",
        "        \n",
        "        dis_total_loss = dis_total_loss + Dis_train(batch_x)\n",
        "        gene_total_loss = gene_total_loss + Gene_train(batch_x, epoch, step)\n",
        "\n",
        "\n",
        "    \n",
        "\n",
        "    gene_total_loss = gene_total_loss / len(train_loader)\n",
        "    dis_total_loss = dis_total_loss / len(train_loader)\n",
        "\n",
        "    \n",
        "\n",
        "\n",
        "\n",
        "    print(\"generator loss: %.4f\" % gene_total_loss)\n",
        "    print(\"discrominator loss %.4f\" % dis_total_loss)\n",
        "    "
      ],
      "execution_count": 12,
      "outputs": [
        {
          "output_type": "stream",
          "text": [
            "Training epoch 0\n"
          ],
          "name": "stdout"
        },
        {
          "output_type": "display_data",
          "data": {
            "image/png": "[encoded data removed]",
            "text/plain": [
              "<Figure size 432x288 with 1 Axes>"
            ]
          },
          "metadata": {
            "tags": [],
            "needs_background": "light"
          }
        },
        {
          "output_type": "display_data",
          "data": {
            "image/png": "[encoded data removed]",
            "text/plain": [
              "<Figure size 432x288 with 1 Axes>"
            ]
          },
          "metadata": {
            "tags": [],
            "needs_background": "light"
          }
        },
        {
          "output_type": "display_data",
          "data": {
            "image/png": "[encoded data removed]",
            "text/plain": [
              "<Figure size 432x288 with 1 Axes>"
            ]
          },
          "metadata": {
            "tags": [],
            "needs_background": "light"
          }
        },
        {
          "output_type": "display_data",
          "data": {
            "image/png": "[encoded data removed]",
            "text/plain": [
              "<Figure size 432x288 with 1 Axes>"
            ]
          },
          "metadata": {
            "tags": [],
            "needs_background": "light"
          }
        },
        {
          "output_type": "stream",
          "text": [
            "generator loss: 0.9854\n",
            "discrominator loss 1.2920\n",
            "Training epoch 1\n",
            "generator loss: 1.0344\n",
            "discrominator loss 1.2497\n",
            "Training epoch 2\n",
            "generator loss: 0.9564\n",
            "discrominator loss 1.2691\n",
            "Training epoch 3\n"
          ],
          "name": "stdout"
        },
        {
          "output_type": "display_data",
          "data": {
            "image/png": "[encoded data removed]",
            "text/plain": [
              "<Figure size 432x288 with 1 Axes>"
            ]
          },
          "metadata": {
            "tags": [],
            "needs_background": "light"
          }
        },
        {
          "output_type": "display_data",
          "data": {
            "image/png": "[encoded data removed]",
            "text/plain": [
              "<Figure size 432x288 with 1 Axes>"
            ]
          },
          "metadata": {
            "tags": [],
            "needs_background": "light"
          }
        },
        {
          "output_type": "display_data",
          "data": {
            "image/png": "[encoded data removed]",
            "text/plain": [
              "<Figure size 432x288 with 1 Axes>"
            ]
          },
          "metadata": {
            "tags": [],
            "needs_background": "light"
          }
        },
        {
          "output_type": "display_data",
          "data": {
            "image/png": "[encoded data removed]",
            "text/plain": [
              "<Figure size 432x288 with 1 Axes>"
            ]
          },
          "metadata": {
            "tags": [],
            "needs_background": "light"
          }
        },
        {
          "output_type": "stream",
          "text": [
            "generator loss: 0.9603\n",
            "discrominator loss 1.2639\n",
            "Training epoch 4\n",
            "generator loss: 0.9439\n",
            "discrominator loss 1.2703\n",
            "Training epoch 5\n",
            "generator loss: 0.9218\n",
            "discrominator loss 1.2844\n",
            "Training epoch 6\n"
          ],
          "name": "stdout"
        },
        {
          "output_type": "display_data",
          "data": {
            "image/png": "[encoded data removed]",
            "text/plain": [
              "<Figure size 432x288 with 1 Axes>"
            ]
          },
          "metadata": {
            "tags": [],
            "needs_background": "light"
          }
        },
        {
          "output_type": "display_data",
          "data": {
            "image/png": "[encoded data removed]",
            "text/plain": [
              "<Figure size 432x288 with 1 Axes>"
            ]
          },
          "metadata": {
            "tags": [],
            "needs_background": "light"
          }
        },
        {
          "output_type": "display_data",
          "data": {
            "image/png": "[encoded data removed]",
            "text/plain": [
              "<Figure size 432x288 with 1 Axes>"
            ]
          },
          "metadata": {
            "tags": [],
            "needs_background": "light"
          }
        },
        {
          "output_type": "display_data",
          "data": {
            "image/png": "[encoded data removed]",
            "text/plain": [
              "<Figure size 432x288 with 1 Axes>"
            ]
          },
          "metadata": {
            "tags": [],
            "needs_background": "light"
          }
        },
        {
          "output_type": "stream",
          "text": [
            "generator loss: 0.8930\n",
            "discrominator loss 1.2969\n",
            "Training epoch 7\n",
            "generator loss: 0.8844\n",
            "discrominator loss 1.3009\n",
            "Training epoch 8\n",
            "generator loss: 0.8773\n",
            "discrominator loss 1.3065\n",
            "Training epoch 9\n"
          ],
          "name": "stdout"
        },
        {
          "output_type": "display_data",
          "data": {
            "image/png": "[encoded data removed]",
            "text/plain": [
              "<Figure size 432x288 with 1 Axes>"
            ]
          },
          "metadata": {
            "tags": [],
            "needs_background": "light"
          }
        },
        {
          "output_type": "display_data",
          "data": {
            "image/png": "[encoded data removed]",
            "text/plain": [
              "<Figure size 432x288 with 1 Axes>"
            ]
          },
          "metadata": {
            "tags": [],
            "needs_background": "light"
          }
        },
        {
          "output_type": "display_data",
          "data": {
            "image/png": "[encoded data removed]",
            "text/plain": [
              "<Figure size 432x288 with 1 Axes>"
            ]
          },
          "metadata": {
            "tags": [],
            "needs_background": "light"
          }
        },
        {
          "output_type": "display_data",
          "data": {
            "image/png": "[encoded data removed]",
            "text/plain": [
              "<Figure size 432x288 with 1 Axes>"
            ]
          },
          "metadata": {
            "tags": [],
            "needs_background": "light"
          }
        },
        {
          "output_type": "stream",
          "text": [
            "generator loss: 0.8688\n",
            "discrominator loss 1.3113\n"
          ],
          "name": "stdout"
        }
      ]
    },
    {
      "cell_type": "code",
      "metadata": {
        "id": "ZrLLuBxWMOnA"
      },
      "source": [
        ""
      ],
      "execution_count": 12,
      "outputs": []
    }
  ]
}