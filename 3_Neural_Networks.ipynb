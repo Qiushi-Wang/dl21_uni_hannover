{
 "cells": [
  {
   "cell_type": "markdown",
   "metadata": {
    "id": "sEgUdrADq8cF"
   },
   "source": [
    "# Deep Learning 2021\n",
    "## Assignment 2 - Neural Networks and Loss Functions"
   ]
  },
  {
   "cell_type": "markdown",
   "metadata": {
    "id": "AHk9fevmq8cI"
   },
   "source": [
    "### 1. Multilayer Perceptron\n",
    "\n",
    "Consider an MLP with $n > 0$ hidden layers $h_1, h_2, ..., h_n$. Let all activation functions in this network be __linear__, e.g. all neurons use the identity $f(x) = x$ as the activation function. Show that there exists an equivalent MLP with no hidden layers (only input and output layer, resulting in the model being a **linear predictor**)."
   ]
  },
  {
   "cell_type": "markdown",
   "metadata": {
    "id": "2tcuhZfZq8cI"
   },
   "source": [
    "#### Solution\n",
    "Assume the MLP with no hidden layers has the output $y_i = \\sum^m_{j=1}w_{ij}*x_j$,\n",
    "the MLP with n hidden layers and the linear activation function has the output $y_i = \\sum_{j=1}^mw^{n-1}_{ji}*h_{ni}$, in which $w^{n-1}$ means the weight matrix of $n-1$ layer,\n",
    "as we can see, the $n-1$ layer is $h_{n-1} = \\sum_{j=1}^mw^{n-2}_{ji}*h_{n-1i}$,\n",
    "and finally by adjust weightsto the sum of the weight matrix of all layers of the MLP with hidden layers we can find an equivalent MLP with no layers."
   ]
  },
  {
   "cell_type": "markdown",
   "metadata": {
    "id": "3KlrkFKQLHKS"
   },
   "source": [
    "### 2. Loss Functions and Gradient Descent\n",
    "\n",
    "Let $W = (a, b)$. Consider a linear model\n",
    "\n",
    "\\begin{equation*}\n",
    "  f(x; W) = ax + b\n",
    "\\end{equation*}\n",
    "\n",
    "and a training data set consisting of two data points $(x_0, y_0) = (1, 2)$ and $(x_1, y_1) = (2, 3)$. That is: ideally we want $f(1) = 2$ and $f(2) = 3$.\n",
    "\n",
    "The model is randomly initialized to $a = 3, b = -1$. We want to train the model by minimizing the squared loss function using stochastic gradient descent (SGD) with learning rate $\\eta = \\frac{1}{10}$.\n",
    "\n",
    "1. What are the ideal weights $a, b$ for this model?\n",
    "2. Perform two steps of SGD. Use $(x_0, y_0)$ for the first step and $(x_1; y_1)$ for the second step. What are the gradients and updated weights after each step?\n",
    "3. The gradient update in the first step might have been surprising to you. Can you point at a reason it came out this way, and does it tell you anything about potential shortcomings of SGD?\n",
    "4. What would have been the gradient in a full gradient descent step?\n",
    "5. Are stochastic gradient descent and gradient descent good choices to train this type of model or is there a better way?"
   ]
  },
  {
   "cell_type": "markdown",
   "metadata": {
    "id": "MgM--M5-LHKT"
   },
   "source": [
    "#### Solution\n",
    "1. $a = 1, b = 1$ \n",
    "2. first step: $W = [3, -1]$, $f(x_0, W) = 2 = y_0$, $gradient = 0$, $W$ keep constant,   \n",
    "second step: $W = [3, -1]$,  $f(x_1, W) = 5$,  $gradinet_a = 2 * -(y_1 - (a*x_1 + b)) * x_1 = 2 * (5-3) * 2 = 8$,  $gradient_b = 2 * -(y_1 - (a*x_1 + b)) = 2 * (5-3) = 4$,  $W = W - \\eta * gradient = [3, -1] - [0.8, 0.4] = [2.2, -1.4]$\n",
    "3. it is just a coincidence, that the stochastic weight will have the same result as the weight we need, in generall simple linear combinition can usually have coincidences. In practice we usually need more complex linear combinition.\n",
    "4. The partial derivative of the loss in respect to weights.   \n",
    "5. mini-batch gradient descent."
   ]
  },
  {
   "cell_type": "markdown",
   "metadata": {
    "id": "Hp8yuc6mLHKU"
   },
   "source": [
    "### C0. Neural Networks from Scratch\n",
    "Before working on the code assignments in this notebook, we recommend reading through the `What is torch.nn really?` tutorial notebook [link](https://pytorch.org/tutorials/beginner/nn_tutorial.html). You can also use [this link](https://colab.research.google.com/github/pytorch/tutorials/blob/gh-pages/_downloads/5ddab57bb7482fbcc76722617dd47324/nn_tutorial.ipynb) to directly open it in Google Colab.\n",
    "\n",
    "\n",
    "For this exercise, it is enough to work through the `Neural net from scratch (no torch.nn)` section. The `Refactor using ...` sections will be important for the next exercise (Assignment 4).\n"
   ]
  },
  {
   "cell_type": "markdown",
   "metadata": {
    "id": "vCVq9AEfq8cJ"
   },
   "source": [
    "### C1. Learning XOR\n",
    "The XOR function is defined as\n",
    "\\begin{equation}\n",
    "    x_1 \\oplus x_2 =\n",
    "    \\begin{cases}\n",
    "        0 \\quad x_1 = x_2\\\\\n",
    "        1 \\quad x_1 \\neq x_2\\\\\n",
    "    \\end{cases}.\n",
    "\\end{equation}\n",
    "\n",
    "In this task we want to use [`scikit-learn`](https://scikit-learn.org/stable/index.html) to train a linear model on the XOR function.\n",
    "\n",
    "1. What are the possible input-output-pairs $(x, y)$?\n",
    "2. Use [`sklearn.linear_model.LinearRegression`](https://scikit-learn.org/stable/modules/generated/sklearn.linear_model.LinearRegression.html#sklearn.linear_model.LinearRegression) to train a linear classifier on all pairs from 1.\n",
    "3. Test your model. Is it working well? Why (not)?"
   ]
  },
  {
   "cell_type": "code",
   "execution_count": 163,
   "metadata": {
    "id": "lFIxvjRmLHKV"
   },
   "outputs": [
    {
     "name": "stdout",
     "output_type": "stream",
     "text": [
      "Error is 0.4444\n"
     ]
    }
   ],
   "source": [
    "import torch\n",
    "from matplotlib import pyplot as plt\n",
    "\n",
    "# ToDo: define input-output pairs\n",
    "X = torch.tensor([[0, 0], [0, 1], [1, 1], [1, 0], [0, 0], [1, 0], [0, 1], [1, 1]])\n",
    "y = torch.tensor([[1], [0], [1], [0], [1], [0], [0], [1]])\n",
    "\n",
    "from sklearn.linear_model import LinearRegression\n",
    "# ToDo: Fit a linear regression\n",
    "X_train = X[0: 6]\n",
    "X_test = X[6: ]\n",
    "y_train = y[0: 6]\n",
    "y_test = y[6: ]\n",
    "\n",
    "linreg = LinearRegression()\n",
    "linreg.fit(X_train, y_train)\n",
    "\n",
    "# ToDo: Make predicitons and test/visualize the linear regression model\n",
    "\n",
    "y_pred = linreg.predict(X_test)\n",
    "n = y_pred.size\n",
    "\n",
    "error = 0\n",
    "for i in range(n):\n",
    "    error = error + (y_test[i] - y_pred[i]) ** 2\n",
    "error = error / n\n",
    "print(\"Error is %.4f\" % error)"
   ]
  },
  {
   "cell_type": "markdown",
   "metadata": {},
   "source": [
    "3. Not very well, because my train dataset is too small."
   ]
  },
  {
   "cell_type": "markdown",
   "metadata": {
    "id": "mVuVHXb6LHKW"
   },
   "source": [
    "### C2. Learning XOR with MLP\n",
    "We want to implement a simple feed-forward net that can learn the XOR function. Our network should have a single $5$-dimensional hidden layer $h$ and use sigmoid activation in all layers.\n",
    "\n",
    "1. What are the dimensions of the two weight matrices?\n",
    "2. Implement the forward pass. Initialize the weight matrices randomly in $[-1; 1]$. You can omit the bias terms in this example.\n",
    "3. Implement a backward pass that computes the gradients of the weights w.r.t. the loss. \n",
    "4. Implement the training loop over the dataset consisting of: \n",
    "    * a forward pass, computing the output of the net.\n",
    "    * computing the loss.\n",
    "    * a backward pass, computing the gradients of the weights w.r.t. the loss.\n",
    "    * updating the weights\n",
    "    \n",
    "    Use plain SGD optimization and squared error $SE(y, \\hat{y}) = \\frac{1}{2} (y - \\hat{y})^2$ as the objective funciton (loss). Set the learning rate to $\\eta = 1$.\n",
    "4. Train the model by running the training loop for 1001 epochs. Afterwards, test your model by printing its predictions on the dataset.\n",
    "\n",
    "For this task, use only basic tensor features of **PyTorch**. Specifically, do **not** use \n",
    "* autograd , e.g. `.backward()`\n",
    "* `torch.nn`\n",
    "* `torch.optim`\n",
    "* the built-in sigmoid function (implement it yourself)\n",
    "* or similar off-the-shelf building blocks"
   ]
  },
  {
   "cell_type": "markdown",
   "metadata": {},
   "source": [
    "1. size of the first weight matrix is 2 * 5, of the second is 5 * 1"
   ]
  },
  {
   "cell_type": "code",
   "execution_count": 2,
   "metadata": {
    "id": "JXP9IsW5LHKX"
   },
   "outputs": [
    {
     "name": "stdout",
     "output_type": "stream",
     "text": [
      "loss is 0.2711\n"
     ]
    },
    {
     "data": {
      "image/png": "[encoded data removed]",
      "text/plain": [
       "<Figure size 432x288 with 1 Axes>"
      ]
     },
     "metadata": {
      "needs_background": "light"
     },
     "output_type": "display_data"
    }
   ],
   "source": [
    "import torch\n",
    "from matplotlib import pyplot as plt\n",
    "\n",
    "# ToDo\n",
    "X = torch.tensor([[0., 0.], [0., 1.], [1., 1.], [1., 0.], [0., 0.], [1., 0.], [0., 1.], [1., 1.]])\n",
    "Y = torch.tensor([[1.], [0.], [1.], [0.], [1.], [0.], [0.], [1.]])\n",
    "\n",
    "X_train = X[0: 6]\n",
    "X_test = X[6: ]\n",
    "Y_train = Y[0: 6]\n",
    "Y_test = Y[6: ]\n",
    "\n",
    "def sigmoid(h):\n",
    "    return 1. / (1. + torch.exp(-h))\n",
    "\n",
    "def sigmoid_der(h):\n",
    "    return sigmoid(h) * (1. - sigmoid(h))\n",
    "\n",
    "loss_log = torch.zeros(1001)\n",
    "\n",
    "W1 = torch.rand(2, 5) * 2 - 1\n",
    "W2 = torch.rand(5, 1) * 2 - 1\n",
    "\n",
    "for epoch in range(1001):\n",
    "    \n",
    "    index = torch.randint(len(X_train), [1, 1])[0][0]\n",
    "    x = X_train[index]\n",
    "    y = Y_train[index]\n",
    "    \n",
    "    #forward\n",
    "    h_for = torch.matmul(x, W1) #before activation function\n",
    "    h = sigmoid(h_for)\n",
    "    y_pred_for = torch.matmul(h, W2)\n",
    "    y_pred = sigmoid(y_pred_for)\n",
    "    \n",
    "    #computing loss\n",
    "    loss = 0.5 * (y - y_pred) ** 2\n",
    "    #print(\"in %d epoch loss is %.4f\" % (epoch, loss))\n",
    "    loss_log[epoch] = loss\n",
    "    \n",
    "    #backward\n",
    "    gradient_W2 = torch.zeros(5, 1)\n",
    "    for item in range(5):\n",
    "        gradient_W2[item] = -(y - y_pred) * sigmoid_der(y_pred_for) * h[item]\n",
    "    \n",
    "    gradient_W1 = torch.zeros(2, 5)\n",
    "    for i in range(2):\n",
    "        for j in range(5):\n",
    "            gradient_W1[i, j] = -(y - y_pred) * sigmoid_der(y_pred_for) * W2[j] * sigmoid_der(h_for[j]) * x[i]\n",
    "    \n",
    "    W1 = W1 - gradient_W1\n",
    "    W2 = W2 - gradient_W2\n",
    "    \n",
    "loss_eva = 0\n",
    "y_eva = torch.zeros(1, 2)[0]\n",
    "for i in range(2):\n",
    "    y_eva[i] = sigmoid(torch.matmul(sigmoid(torch.matmul(X_test[i], W1)), W2))\n",
    "    loss_eva = loss_eva + 0.5 * (Y_test[i] - y_eva[i]) ** 2\n",
    "\n",
    "print(\"loss is %.4f\" % loss_eva)\n",
    "\n",
    "plt.plot(loss_log)\n",
    "plt.show()\n",
    "    "
   ]
  },
  {
   "cell_type": "code",
   "execution_count": null,
   "metadata": {},
   "outputs": [],
   "source": []
  }
 ],
 "metadata": {
  "colab": {
   "collapsed_sections": [],
   "name": "3_Neural_Networks.ipynb",
   "provenance": []
  },
  "kernelspec": {
   "display_name": "Python 3",
   "language": "python",
   "name": "python3"
  },
  "language_info": {
   "codemirror_mode": {
    "name": "ipython",
    "version": 3
   },
   "file_extension": ".py",
   "mimetype": "text/x-python",
   "name": "python",
   "nbconvert_exporter": "python",
   "pygments_lexer": "ipython3",
   "version": "3.7.4"
  }
 },
 "nbformat": 4,
 "nbformat_minor": 1
}
